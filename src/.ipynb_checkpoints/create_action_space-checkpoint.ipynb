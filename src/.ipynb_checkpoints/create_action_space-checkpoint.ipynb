{
 "cells": [
  {
   "cell_type": "code",
   "execution_count": 1,
   "metadata": {},
   "outputs": [
    {
     "name": "stderr",
     "output_type": "stream",
     "text": [
      "Loading tidyverse: ggplot2\n",
      "Loading tidyverse: tibble\n",
      "Loading tidyverse: tidyr\n",
      "Loading tidyverse: readr\n",
      "Loading tidyverse: purrr\n",
      "Loading tidyverse: dplyr\n",
      "Conflicts with tidy packages ---------------------------------------------------\n",
      "filter(): dplyr, stats\n",
      "lag():    dplyr, stats\n"
     ]
    }
   ],
   "source": [
    "library(tidyverse)"
   ]
  },
  {
   "cell_type": "code",
   "execution_count": 2,
   "metadata": {
    "scrolled": true
   },
   "outputs": [
    {
     "name": "stderr",
     "output_type": "stream",
     "text": [
      "Parsed with column specification:\n",
      "cols(\n",
      "  subject_id = col_integer(),\n",
      "  hadm_id = col_integer(),\n",
      "  icustay_id = col_integer(),\n",
      "  intime = col_datetime(format = \"\"),\n",
      "  outtime = col_datetime(format = \"\"),\n",
      "  suspected_infection_time_poe = col_datetime(format = \"\"),\n",
      "  window_start = col_datetime(format = \"\"),\n",
      "  window_end = col_datetime(format = \"\"),\n",
      "  hospital_expire_flag = col_integer()\n",
      ")\n"
     ]
    }
   ],
   "source": [
    "data_path <- '../data/'\n",
    "cohort_df <- read_csv(paste0(data_path, 'cohort.csv'))"
   ]
  },
  {
   "cell_type": "code",
   "execution_count": 3,
   "metadata": {},
   "outputs": [],
   "source": [
    "temp_start = cohort_df$window_start[1]\n",
    "temp_end = cohort_df$window_end[1]"
   ]
  },
  {
   "cell_type": "code",
   "execution_count": 4,
   "metadata": {},
   "outputs": [
    {
     "data": {
      "text/plain": [
       " [1] \"2114-08-01 23:13:00 UTC\" \"2114-08-02 03:13:00 UTC\"\n",
       " [3] \"2114-08-02 07:13:00 UTC\" \"2114-08-02 11:13:00 UTC\"\n",
       " [5] \"2114-08-02 15:13:00 UTC\" \"2114-08-02 19:13:00 UTC\"\n",
       " [7] \"2114-08-02 23:13:00 UTC\" \"2114-08-03 03:13:00 UTC\"\n",
       " [9] \"2114-08-03 07:13:00 UTC\" \"2114-08-03 11:13:00 UTC\"\n",
       "[11] \"2114-08-03 15:13:00 UTC\" \"2114-08-03 19:13:00 UTC\"\n",
       "[13] \"2114-08-03 23:13:00 UTC\" \"2114-08-04 03:13:00 UTC\"\n",
       "[15] \"2114-08-04 07:13:00 UTC\" \"2114-08-04 11:13:00 UTC\"\n",
       "[17] \"2114-08-04 15:13:00 UTC\" \"2114-08-04 19:13:00 UTC\"\n",
       "[19] \"2114-08-04 23:13:00 UTC\""
      ]
     },
     "metadata": {},
     "output_type": "display_data"
    }
   ],
   "source": [
    "seq(temp_start, temp_end, by = '4 hour')"
   ]
  },
  {
   "cell_type": "code",
   "execution_count": 5,
   "metadata": {},
   "outputs": [],
   "source": [
    "get_time_intervals <- function(start, end) {\n",
    "    \n",
    "    interval_times <- seq(start, end, by = '4 hour')\n",
    "    interval_start_times <- interval_times[1:length(interval_times) -1]\n",
    "    interval_end_times <- interval_times[2:length(interval_times)]\n",
    "    return(data.frame(interval_start_times, interval_end_times))\n",
    "}"
   ]
  },
  {
   "cell_type": "code",
   "execution_count": 6,
   "metadata": {},
   "outputs": [],
   "source": [
    "interval_times_df <- cohort_df %>% \n",
    "        group_by(subject_id, hadm_id, icustay_id) %>% \n",
    "        do(get_time_intervals(.$window_start, .$window_end))"
   ]
  },
  {
   "cell_type": "code",
   "execution_count": 7,
   "metadata": {},
   "outputs": [
    {
     "data": {
      "text/html": [
       "<ol class=list-inline>\n",
       "\t<li>330210</li>\n",
       "\t<li>5</li>\n",
       "</ol>\n"
      ],
      "text/latex": [
       "\\begin{enumerate*}\n",
       "\\item 330210\n",
       "\\item 5\n",
       "\\end{enumerate*}\n"
      ],
      "text/markdown": [
       "1. 330210\n",
       "2. 5\n",
       "\n",
       "\n"
      ],
      "text/plain": [
       "[1] 330210      5"
      ]
     },
     "metadata": {},
     "output_type": "display_data"
    }
   ],
   "source": [
    "dim(interval_times_df)"
   ]
  },
  {
   "cell_type": "code",
   "execution_count": 8,
   "metadata": {},
   "outputs": [
    {
     "name": "stderr",
     "output_type": "stream",
     "text": [
      "Parsed with column specification:\n",
      "cols(\n",
      "  icustay_id = col_integer(),\n",
      "  charttime = col_datetime(format = \"\"),\n",
      "  itemid = col_integer(),\n",
      "  stopped = col_character(),\n",
      "  rate = col_character(),\n",
      "  amount = col_double()\n",
      ")\n",
      "Parsed with column specification:\n",
      "cols(\n",
      "  icustay_id = col_integer(),\n",
      "  linkorderid = col_integer(),\n",
      "  starttime = col_datetime(format = \"\"),\n",
      "  endtime = col_datetime(format = \"\"),\n",
      "  itemid = col_integer(),\n",
      "  rate = col_double(),\n",
      "  amount = col_double()\n",
      ")\n"
     ]
    }
   ],
   "source": [
    "# Load some vassopressors\n",
    "vassopressor_cv_df <- read_csv(paste0(data_path, 'vassopressors_cv_cohort.csv'))\n",
    "vassopressor_mv_df <- read_csv(paste0(data_path, 'vassopressors_mv_cohort.csv'))"
   ]
  },
  {
   "cell_type": "code",
   "execution_count": 9,
   "metadata": {},
   "outputs": [
    {
     "data": {
      "text/html": [
       "<ol class=list-inline>\n",
       "\t<li>'icustay_id'</li>\n",
       "\t<li>'charttime'</li>\n",
       "\t<li>'itemid'</li>\n",
       "\t<li>'stopped'</li>\n",
       "\t<li>'rate'</li>\n",
       "\t<li>'amount'</li>\n",
       "</ol>\n"
      ],
      "text/latex": [
       "\\begin{enumerate*}\n",
       "\\item 'icustay\\_id'\n",
       "\\item 'charttime'\n",
       "\\item 'itemid'\n",
       "\\item 'stopped'\n",
       "\\item 'rate'\n",
       "\\item 'amount'\n",
       "\\end{enumerate*}\n"
      ],
      "text/markdown": [
       "1. 'icustay_id'\n",
       "2. 'charttime'\n",
       "3. 'itemid'\n",
       "4. 'stopped'\n",
       "5. 'rate'\n",
       "6. 'amount'\n",
       "\n",
       "\n"
      ],
      "text/plain": [
       "[1] \"icustay_id\" \"charttime\"  \"itemid\"     \"stopped\"    \"rate\"      \n",
       "[6] \"amount\"    "
      ]
     },
     "metadata": {},
     "output_type": "display_data"
    }
   ],
   "source": [
    "names(vassopressor_cv_df)"
   ]
  },
  {
   "cell_type": "code",
   "execution_count": 10,
   "metadata": {},
   "outputs": [
    {
     "name": "stderr",
     "output_type": "stream",
     "text": [
      "Joining, by = \"icustay_id\"\n"
     ]
    }
   ],
   "source": [
    "max_vassopressor_cv <- interval_times_df %>% \n",
    "                    inner_join(vassopressor_cv_df) %>% \n",
    "                                group_by(subject_id, \n",
    "                                       hadm_id, \n",
    "                                       icustay_id, \n",
    "                                       interval_start_times, \n",
    "                                       interval_end_times) #%>%\n",
    "#                                 filter(charttime > interval_start_times & charttime <= interval_end_times) %>%\n",
    "#                                 summarise(max_pressor = max(amount))"
   ]
  },
  {
   "cell_type": "code",
   "execution_count": 15,
   "metadata": {},
   "outputs": [
    {
     "data": {
      "text/html": [
       "<table>\n",
       "<thead><tr><th scope=col>subject_id</th><th scope=col>hadm_id</th><th scope=col>icustay_id</th><th scope=col>interval_start_times</th><th scope=col>interval_end_times</th><th scope=col>charttime</th><th scope=col>itemid</th><th scope=col>stopped</th><th scope=col>rate</th><th scope=col>amount</th></tr></thead>\n",
       "<tbody>\n",
       "\t<tr><td>9                  </td><td>150750             </td><td>220597             </td><td>2114-08-01 23:13:00</td><td>2114-08-02 03:13:00</td><td>2149-11-14 08:00:00</td><td>30120              </td><td>NA                 </td><td>NA                 </td><td>0.7488000          </td></tr>\n",
       "\t<tr><td>9                  </td><td>150750             </td><td>220597             </td><td>2114-08-01 23:13:00</td><td>2114-08-02 03:13:00</td><td>2149-11-13 23:00:00</td><td>30120              </td><td>NA                 </td><td>NA                 </td><td>0.2496000          </td></tr>\n",
       "\t<tr><td>9                  </td><td>150750             </td><td>220597             </td><td>2114-08-01 23:13:00</td><td>2114-08-02 03:13:00</td><td>2149-11-13 22:00:00</td><td>30120              </td><td>NA                 </td><td>NA                 </td><td>0.3744000          </td></tr>\n",
       "\t<tr><td>9                  </td><td>150750             </td><td>220597             </td><td>2114-08-01 23:13:00</td><td>2114-08-02 03:13:00</td><td>2149-11-14 06:00:00</td><td>30120              </td><td>NA                 </td><td>NA                 </td><td>0.2496000          </td></tr>\n",
       "\t<tr><td>9                  </td><td>150750             </td><td>220597             </td><td>2114-08-01 23:13:00</td><td>2114-08-02 03:13:00</td><td>2149-11-14 04:00:00</td><td>30120              </td><td>NA                 </td><td>NA                 </td><td>0.2496000          </td></tr>\n",
       "\t<tr><td>9                  </td><td>150750             </td><td>220597             </td><td>2114-08-01 23:13:00</td><td>2114-08-02 03:13:00</td><td>2149-11-13 18:00:00</td><td>30120              </td><td>NA                 </td><td>NA                 </td><td>0.6240001          </td></tr>\n",
       "</tbody>\n",
       "</table>\n"
      ],
      "text/latex": [
       "\\begin{tabular}{r|llllllllll}\n",
       " subject\\_id & hadm\\_id & icustay\\_id & interval\\_start\\_times & interval\\_end\\_times & charttime & itemid & stopped & rate & amount\\\\\n",
       "\\hline\n",
       "\t 9                   & 150750              & 220597              & 2114-08-01 23:13:00 & 2114-08-02 03:13:00 & 2149-11-14 08:00:00 & 30120               & NA                  & NA                  & 0.7488000          \\\\\n",
       "\t 9                   & 150750              & 220597              & 2114-08-01 23:13:00 & 2114-08-02 03:13:00 & 2149-11-13 23:00:00 & 30120               & NA                  & NA                  & 0.2496000          \\\\\n",
       "\t 9                   & 150750              & 220597              & 2114-08-01 23:13:00 & 2114-08-02 03:13:00 & 2149-11-13 22:00:00 & 30120               & NA                  & NA                  & 0.3744000          \\\\\n",
       "\t 9                   & 150750              & 220597              & 2114-08-01 23:13:00 & 2114-08-02 03:13:00 & 2149-11-14 06:00:00 & 30120               & NA                  & NA                  & 0.2496000          \\\\\n",
       "\t 9                   & 150750              & 220597              & 2114-08-01 23:13:00 & 2114-08-02 03:13:00 & 2149-11-14 04:00:00 & 30120               & NA                  & NA                  & 0.2496000          \\\\\n",
       "\t 9                   & 150750              & 220597              & 2114-08-01 23:13:00 & 2114-08-02 03:13:00 & 2149-11-13 18:00:00 & 30120               & NA                  & NA                  & 0.6240001          \\\\\n",
       "\\end{tabular}\n"
      ],
      "text/markdown": [
       "\n",
       "subject_id | hadm_id | icustay_id | interval_start_times | interval_end_times | charttime | itemid | stopped | rate | amount | \n",
       "|---|---|---|---|---|---|\n",
       "| 9                   | 150750              | 220597              | 2114-08-01 23:13:00 | 2114-08-02 03:13:00 | 2149-11-14 08:00:00 | 30120               | NA                  | NA                  | 0.7488000           | \n",
       "| 9                   | 150750              | 220597              | 2114-08-01 23:13:00 | 2114-08-02 03:13:00 | 2149-11-13 23:00:00 | 30120               | NA                  | NA                  | 0.2496000           | \n",
       "| 9                   | 150750              | 220597              | 2114-08-01 23:13:00 | 2114-08-02 03:13:00 | 2149-11-13 22:00:00 | 30120               | NA                  | NA                  | 0.3744000           | \n",
       "| 9                   | 150750              | 220597              | 2114-08-01 23:13:00 | 2114-08-02 03:13:00 | 2149-11-14 06:00:00 | 30120               | NA                  | NA                  | 0.2496000           | \n",
       "| 9                   | 150750              | 220597              | 2114-08-01 23:13:00 | 2114-08-02 03:13:00 | 2149-11-14 04:00:00 | 30120               | NA                  | NA                  | 0.2496000           | \n",
       "| 9                   | 150750              | 220597              | 2114-08-01 23:13:00 | 2114-08-02 03:13:00 | 2149-11-13 18:00:00 | 30120               | NA                  | NA                  | 0.6240001           | \n",
       "\n",
       "\n"
      ],
      "text/plain": [
       "  subject_id hadm_id icustay_id interval_start_times interval_end_times \n",
       "1 9          150750  220597     2114-08-01 23:13:00  2114-08-02 03:13:00\n",
       "2 9          150750  220597     2114-08-01 23:13:00  2114-08-02 03:13:00\n",
       "3 9          150750  220597     2114-08-01 23:13:00  2114-08-02 03:13:00\n",
       "4 9          150750  220597     2114-08-01 23:13:00  2114-08-02 03:13:00\n",
       "5 9          150750  220597     2114-08-01 23:13:00  2114-08-02 03:13:00\n",
       "6 9          150750  220597     2114-08-01 23:13:00  2114-08-02 03:13:00\n",
       "  charttime           itemid stopped rate amount   \n",
       "1 2149-11-14 08:00:00 30120  NA      NA   0.7488000\n",
       "2 2149-11-13 23:00:00 30120  NA      NA   0.2496000\n",
       "3 2149-11-13 22:00:00 30120  NA      NA   0.3744000\n",
       "4 2149-11-14 06:00:00 30120  NA      NA   0.2496000\n",
       "5 2149-11-14 04:00:00 30120  NA      NA   0.2496000\n",
       "6 2149-11-13 18:00:00 30120  NA      NA   0.6240001"
      ]
     },
     "metadata": {},
     "output_type": "display_data"
    }
   ],
   "source": [
    "head(max_vassopressor_cv)"
   ]
  },
  {
   "cell_type": "code",
   "execution_count": 11,
   "metadata": {},
   "outputs": [
    {
     "name": "stderr",
     "output_type": "stream",
     "text": [
      "Joining, by = \"icustay_id\"\n"
     ]
    }
   ],
   "source": [
    "max_vassopressor_mv <- interval_times_df %>% \n",
    "                                inner_join(vassopressor_mv_df) %>% \n",
    "                                group_by(subject_id, \n",
    "                                           hadm_id, \n",
    "                                           icustay_id, \n",
    "                                           interval_start_times, \n",
    "                                           interval_end_times) %>%\n",
    "                                filter(endtime > interval_start_times & endtime <= interval_end_times) %>%\n",
    "                                summarise(max_pressor = max(amount))"
   ]
  },
  {
   "cell_type": "code",
   "execution_count": 14,
   "metadata": {},
   "outputs": [
    {
     "data": {
      "text/html": [
       "<table>\n",
       "<thead><tr><th scope=col>subject_id</th><th scope=col>hadm_id</th><th scope=col>icustay_id</th><th scope=col>interval_start_times</th><th scope=col>interval_end_times</th><th scope=col>max_pressor</th></tr></thead>\n",
       "<tbody>\n",
       "</tbody>\n",
       "</table>\n"
      ],
      "text/latex": [
       "\\begin{tabular}{r|llllll}\n",
       " subject\\_id & hadm\\_id & icustay\\_id & interval\\_start\\_times & interval\\_end\\_times & max\\_pressor\\\\\n",
       "\\hline\n",
       "\\end{tabular}\n"
      ],
      "text/markdown": [
       "\n",
       "subject_id | hadm_id | icustay_id | interval_start_times | interval_end_times | max_pressor | \n",
       "||\n",
       "\n",
       "\n"
      ],
      "text/plain": [
       "     subject_id hadm_id icustay_id interval_start_times interval_end_times\n",
       "     max_pressor"
      ]
     },
     "metadata": {},
     "output_type": "display_data"
    }
   ],
   "source": [
    "head(max_vassopressor_mv)"
   ]
  },
  {
   "cell_type": "code",
   "execution_count": 13,
   "metadata": {},
   "outputs": [
    {
     "ename": "ERROR",
     "evalue": "Error in head(vassopressor_cv_intervals): object 'vassopressor_cv_intervals' not found\n",
     "output_type": "error",
     "traceback": [
      "Error in head(vassopressor_cv_intervals): object 'vassopressor_cv_intervals' not found\nTraceback:\n",
      "1. head(vassopressor_cv_intervals)"
     ]
    }
   ],
   "source": []
  },
  {
   "cell_type": "code",
   "execution_count": null,
   "metadata": {},
   "outputs": [],
   "source": [
    "# # vassopressor_cv_intervals %>% group_by(subject_id, \n",
    "# #                                        hadm_id, \n",
    "#                                        icustay_id, \n",
    "#                                        interval_start_times, \n",
    "#                                        interval_end_times) %>%\n",
    "#                                 filter(charttime > interval_start_times & charttime <= interval_end_times)\n",
    "#                                 summarise(max_pressor = max(amount))"
   ]
  }
 ],
 "metadata": {
  "kernelspec": {
   "display_name": "R",
   "language": "R",
   "name": "ir"
  },
  "language_info": {
   "codemirror_mode": "r",
   "file_extension": ".r",
   "mimetype": "text/x-r-source",
   "name": "R",
   "pygments_lexer": "r",
   "version": "3.3.2"
  }
 },
 "nbformat": 4,
 "nbformat_minor": 2
}
