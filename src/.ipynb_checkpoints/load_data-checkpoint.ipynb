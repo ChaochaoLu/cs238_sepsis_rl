{
 "cells": [
  {
   "cell_type": "code",
   "execution_count": 8,
   "metadata": {},
   "outputs": [],
   "source": [
    "import numpy as np\n",
    "import pandas as pd\n",
    "import sklearn as sk\n",
    "\n",
    "import os"
   ]
  },
  {
   "cell_type": "code",
   "execution_count": 4,
   "metadata": {},
   "outputs": [],
   "source": [
    "data_path = '../data/'"
   ]
  },
  {
   "cell_type": "code",
   "execution_count": null,
   "metadata": {},
   "outputs": [],
   "source": [
    "cohort_path = "
   ]
  },
  {
   "cell_type": "code",
   "execution_count": 45,
   "metadata": {},
   "outputs": [],
   "source": [
    "cohort_df = pd.read_csv(os.path.join(data_path, 'cohort.csv'), \n",
    "                        parse_dates = ['intime', \n",
    "                                       'outtime', \n",
    "                                       'suspected_infection_time_poe', \n",
    "                                       'window_start', \n",
    "                                       'window_end'], \n",
    "                        infer_datetime_format= True,\n",
    "                       error_bad_lines = False,\n",
    "                       skipfooter = True)"
   ]
  },
  {
   "cell_type": "code",
   "execution_count": 46,
   "metadata": {},
   "outputs": [
    {
     "data": {
      "text/plain": [
       "subject_id                                               <class 'str'>\n",
       "hadm_id                                                <class 'float'>\n",
       "icustay_id                                             <class 'float'>\n",
       "intime                          <class 'pandas._libs.tslib.Timestamp'>\n",
       "outtime                         <class 'pandas._libs.tslib.Timestamp'>\n",
       "suspected_infection_time_poe    <class 'pandas._libs.tslib.Timestamp'>\n",
       "window_start                    <class 'pandas._libs.tslib.Timestamp'>\n",
       "window_end                      <class 'pandas._libs.tslib.Timestamp'>\n",
       "hospital_expire_flag                                   <class 'float'>\n",
       "dtype: object"
      ]
     },
     "execution_count": 46,
     "metadata": {},
     "output_type": "execute_result"
    }
   ],
   "source": [
    "cohort_df.apply(lambda x: type(x.values[1]))"
   ]
  },
  {
   "cell_type": "code",
   "execution_count": 43,
   "metadata": {},
   "outputs": [
    {
     "data": {
      "text/plain": [
       "Timestamp('2135-10-29 06:28:00')"
      ]
     },
     "execution_count": 43,
     "metadata": {},
     "output_type": "execute_result"
    }
   ],
   "source": [
    "pd.to_datetime(cohort_df['suspected_infection_time_poe'].values)[1] + pd.DateOffset(2)"
   ]
  },
  {
   "cell_type": "code",
   "execution_count": 47,
   "metadata": {},
   "outputs": [
    {
     "data": {
      "text/plain": [
       "0               86752\n",
       "1                 338\n",
       "2               56058\n",
       "3               93018\n",
       "4                6219\n",
       "5               32096\n",
       "6               69395\n",
       "7               18122\n",
       "8               65126\n",
       "9               86421\n",
       "10              27034\n",
       "11               5948\n",
       "12              26797\n",
       "13              45111\n",
       "14              62212\n",
       "15              32705\n",
       "16              31867\n",
       "17              32330\n",
       "18                 65\n",
       "19              28939\n",
       "20              78168\n",
       "21               8984\n",
       "22              95909\n",
       "23              45838\n",
       "24              43417\n",
       "25               4732\n",
       "26               9498\n",
       "27              77383\n",
       "28              31880\n",
       "29              54005\n",
       "             ...     \n",
       "18316           43640\n",
       "18317           80726\n",
       "18318           26676\n",
       "18319           57103\n",
       "18320           23254\n",
       "18321           99894\n",
       "18322            7014\n",
       "18323            6871\n",
       "18324           22130\n",
       "18325             564\n",
       "18326           42351\n",
       "18327           45632\n",
       "18328           44546\n",
       "18329           26073\n",
       "18330           59677\n",
       "18331           83527\n",
       "18332           90814\n",
       "18333           42336\n",
       "18334           32466\n",
       "18335            1941\n",
       "18336           13695\n",
       "18337           88573\n",
       "18338           90211\n",
       "18339           96686\n",
       "18340           14054\n",
       "18341           85171\n",
       "18342           46382\n",
       "18343           50996\n",
       "18344           41102\n",
       "18345    (18345 rows)\n",
       "Name: subject_id, Length: 18346, dtype: object"
      ]
     },
     "execution_count": 47,
     "metadata": {},
     "output_type": "execute_result"
    }
   ],
   "source": [
    "cohort_df['subject_id']"
   ]
  }
 ],
 "metadata": {
  "kernelspec": {
   "display_name": "Python [conda root]",
   "language": "python",
   "name": "conda-root-py"
  },
  "language_info": {
   "codemirror_mode": {
    "name": "ipython",
    "version": 3
   },
   "file_extension": ".py",
   "mimetype": "text/x-python",
   "name": "python",
   "nbconvert_exporter": "python",
   "pygments_lexer": "ipython3",
   "version": "3.6.3"
  }
 },
 "nbformat": 4,
 "nbformat_minor": 2
}
