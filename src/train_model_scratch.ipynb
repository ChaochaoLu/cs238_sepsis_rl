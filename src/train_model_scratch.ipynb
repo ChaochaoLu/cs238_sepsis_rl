{
 "cells": [
  {
   "cell_type": "code",
   "execution_count": 1,
   "metadata": {
    "collapsed": true
   },
   "outputs": [],
   "source": [
    "import pandas as pd\n",
    "import numpy as np\n",
    "import sklearn as sk\n",
    "import os\n",
    "import torch\n",
    "import copy\n",
    "from torch.utils.data import Dataset, DataLoader\n",
    "\n",
    "from sklearn.feature_extraction import DictVectorizer\n",
    "from sklearn.externals import joblib\n",
    "\n",
    "from functools import reduce\n",
    "from util import *"
   ]
  },
  {
   "cell_type": "code",
   "execution_count": 2,
   "metadata": {
    "collapsed": true
   },
   "outputs": [],
   "source": [
    "# %load_ext autoreload\n",
    "# %autoreload 2"
   ]
  },
  {
   "cell_type": "code",
   "execution_count": 3,
   "metadata": {},
   "outputs": [
    {
     "name": "stdout",
     "output_type": "stream",
     "text": [
      "True\n"
     ]
    }
   ],
   "source": [
    "use_gpu = torch.cuda.is_available()\n",
    "print(use_gpu)"
   ]
  },
  {
   "cell_type": "code",
   "execution_count": 4,
   "metadata": {
    "collapsed": true
   },
   "outputs": [],
   "source": [
    "data_path = '../data'\n",
    "data_dict = joblib.load(os.path.join(data_path, 'data_dict.pkl'))"
   ]
  },
  {
   "cell_type": "code",
   "execution_count": 5,
   "metadata": {
    "collapsed": true
   },
   "outputs": [],
   "source": [
    "# Key = starting state, value = next state\n",
    "transition_dict_train = dict(zip(data_dict['train']['state_id'], data_dict['train']['next_state_id']))\n",
    "transition_dict_val = dict(zip(data_dict['val']['state_id'], data_dict['val']['next_state_id']))"
   ]
  },
  {
   "cell_type": "code",
   "execution_count": 6,
   "metadata": {
    "collapsed": true
   },
   "outputs": [],
   "source": [
    "config = {\n",
    "          'state_dim' : data_dict['train']['X'].shape[1],\n",
    "          'action_dim' : 25,\n",
    "          'gamma' : 0.9,\n",
    "          'batch_size' : 512,\n",
    "          'lr' : 1e-4,\n",
    "          'num_epochs' : 3,\n",
    "          'hidden_dim' : 512,\n",
    "          'num_hidden' : 10,\n",
    "          'drop_prob' : 0.0,\n",
    "          'target_update': 10,\n",
    "          'option' : 'linear',\n",
    "          'use_scheduler' : False\n",
    "        }"
   ]
  },
  {
   "cell_type": "code",
   "execution_count": 7,
   "metadata": {},
   "outputs": [
    {
     "name": "stdout",
     "output_type": "stream",
     "text": [
      "(153569, 46)\n",
      "(19540, 46)\n"
     ]
    }
   ],
   "source": [
    "print(data_dict['train']['X'].shape)\n",
    "print(data_dict['val']['X'].shape)"
   ]
  },
  {
   "cell_type": "code",
   "execution_count": 8,
   "metadata": {
    "collapsed": true
   },
   "outputs": [],
   "source": [
    "# Create a Dataset\n",
    "train_dataset = RL_Dataset(data_dict['train']['X'], \n",
    "                           data_dict['train']['action'],\n",
    "                           data_dict['train']['reward'],\n",
    "                           transition_dict_train)\n",
    "\n",
    "val_dataset = RL_Dataset(data_dict['val']['X'], \n",
    "                           data_dict['val']['action'],\n",
    "                           data_dict['val']['reward'],\n",
    "                           transition_dict_val)"
   ]
  },
  {
   "cell_type": "code",
   "execution_count": 9,
   "metadata": {
    "collapsed": true
   },
   "outputs": [],
   "source": [
    "# Create a dataloader\n",
    "train_loader = DataLoader(train_dataset, \n",
    "                        config['batch_size'],\n",
    "                        shuffle = True,\n",
    "                        num_workers = 32\n",
    "                         )\n",
    "\n",
    "val_loader = DataLoader(val_dataset, \n",
    "                         config['batch_size'],\n",
    "                         shuffle = True,\n",
    "                         num_workers = 32\n",
    "                         )"
   ]
  },
  {
   "cell_type": "code",
   "execution_count": 10,
   "metadata": {},
   "outputs": [
    {
     "name": "stdout",
     "output_type": "stream",
     "text": [
      "----------\n",
      "Epoch 0/2\n",
      "----------\n",
      "Updating Target Model\n",
      "train Loss: 1.311618, Best Value: 0.928512, Empirical Value: 0.083381\n",
      "val Loss: 1.530338, Best Value: 0.816579, Empirical Value: 0.093834\n",
      "Best Value updated\n",
      "----------\n",
      "Epoch 1/2\n",
      "----------\n",
      "train Loss: 1.331080, Best Value: 1.127778, Empirical Value: 0.655961\n",
      "val Loss: 1.289945, Best Value: 1.178359, Empirical Value: 0.702915\n",
      "Best Value updated\n",
      "----------\n",
      "Epoch 2/2\n",
      "----------\n",
      "train Loss: 1.316960, Best Value: 1.158596, Empirical Value: 0.684600\n",
      "val Loss: 1.285268, Best Value: 1.215355, Empirical Value: 0.696773\n",
      "Best Value updated\n",
      "Training complete in 0m 29s\n",
      "Best value: 1.215355\n"
     ]
    }
   ],
   "source": [
    "loaders = {'train' : train_loader,\n",
    "           'val' : val_loader\n",
    "          }\n",
    "\n",
    "dset_sizes = {'train' : len(train_dataset),\n",
    "              'val' : len(val_dataset)\n",
    "             }\n",
    "\n",
    "\n",
    "model = dueling_net(D_in = config['state_dim'], \n",
    "                    H = config['hidden_dim'], \n",
    "                    D_out = config['action_dim'],\n",
    "                    drop_prob = config['drop_prob'],\n",
    "                    num_hidden = config['num_hidden'],\n",
    "                    option = config['option']\n",
    "                   )\n",
    "\n",
    "target_model = dueling_net(D_in = config['state_dim'], \n",
    "                            H = config['hidden_dim'], \n",
    "                            D_out = config['action_dim'],\n",
    "                            drop_prob = config['drop_prob'],\n",
    "                            num_hidden = config['num_hidden'],\n",
    "                            option = config['option']\n",
    "                          )\n",
    "\n",
    "optimizer = optim.Adam([{'params': model.parameters()}], \n",
    "                        lr = config['lr'])\n",
    "\n",
    "if config['use_scheduler']:\n",
    "    scheduler = lr_scheduler.ReduceLROnPlateau(optimizer, mode = 'min', verbose = True)\n",
    "else:\n",
    "    scheduler = None\n",
    "\n",
    "def weights_init(m):\n",
    "        if isinstance(m, nn.Linear):\n",
    "            nn.init.xavier_uniform(m.weight.data).float()\n",
    "\n",
    "model.apply(weights_init)\n",
    "target_model.apply(weights_init)\n",
    "\n",
    "if use_gpu:\n",
    "    model = model.cuda()\n",
    "    target_model.cuda()\n",
    "\n",
    "criterion = torch.nn.SmoothL1Loss(size_average = False)\n",
    "\n",
    "performance_dict, best_model, best_loss, time_elapsed = train_model_double(model = model, \n",
    "                                                                            target_model = target_model,\n",
    "                                                                            loaders = loaders, \n",
    "                                                                            dset_sizes = dset_sizes, \n",
    "                                                                            config = config, \n",
    "                                                                            criterion = criterion,\n",
    "                                                                            optimizer = optimizer,\n",
    "                                                                            scheduler = scheduler,\n",
    "                                                                            use_gpu = use_gpu)"
   ]
  },
  {
   "cell_type": "code",
   "execution_count": 11,
   "metadata": {
    "collapsed": true
   },
   "outputs": [],
   "source": [
    "config_str = reduce(lambda x, y: x + y + '_', [str(key) + '_' + str(value) for key, value in config.items()]) + 'time_'+ str(time.time()).split('.')[1]"
   ]
  },
  {
   "cell_type": "code",
   "execution_count": 12,
   "metadata": {
    "collapsed": true
   },
   "outputs": [],
   "source": [
    "checkpoints_path = os.path.join('../checkpoints', config_str + '.chk')\n",
    "torch.save(best_model.state_dict(), checkpoints_path)"
   ]
  },
  {
   "cell_type": "code",
   "execution_count": 49,
   "metadata": {
    "collapsed": true
   },
   "outputs": [],
   "source": [
    "# # Converts a performance_dict returned from a model \n",
    "# def dict_to_df(the_dict):\n",
    "    \n",
    "#     df_list = []\n",
    "#     for phase, phase_dict in the_dict.items():\n",
    "        \n",
    "#         metrics = phase_dict.keys()\n",
    "        \n",
    "#         phase_df = pd.DataFrame.from_dict(phase_dict)\n",
    "        \n",
    "#         phase_df['phase'] = phase\n",
    "        \n",
    "#         phase_df = phase_df.melt(id_vars = 'phase', \n",
    "#                                  value_vars = phase_dict.keys(), \n",
    "#                                  var_name = 'Metric', \n",
    "#                                  value_name = 'Performance')\n",
    "#         df_list.append(phase_df)\n",
    "        \n",
    "#     return(pd.concat(df_list))"
   ]
  },
  {
   "cell_type": "code",
   "execution_count": 51,
   "metadata": {},
   "outputs": [],
   "source": [
    "performance_df = dict_to_df(performance_dict)\n",
    "config_df = pd.DataFrame(config, index = [0])\n",
    "config_df['config_str'] = config_str\n",
    "performance_df['config_str'] = config_str\n",
    "performance_df.set_index('config_str').join(config_df.set_index('config_str'))\n",
    "performance_df.to_csv(os.path.join('../performance/', 'performance_' + config_str + '.csv'), index = True)"
   ]
  }
 ],
 "metadata": {
  "kernelspec": {
   "display_name": "Python 3",
   "language": "python",
   "name": "python3"
  },
  "language_info": {
   "codemirror_mode": {
    "name": "ipython",
    "version": 3
   },
   "file_extension": ".py",
   "mimetype": "text/x-python",
   "name": "python",
   "nbconvert_exporter": "python",
   "pygments_lexer": "ipython3",
   "version": "3.6.3"
  }
 },
 "nbformat": 4,
 "nbformat_minor": 2
}
