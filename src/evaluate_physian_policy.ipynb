{
 "cells": [
  {
   "cell_type": "code",
   "execution_count": 1,
   "metadata": {},
   "outputs": [],
   "source": [
    "import pandas as pd\n",
    "import numpy as np\n",
    "import sklearn as sk\n",
    "import os\n",
    "import torch\n",
    "import copy\n",
    "from torch.utils.data import Dataset, DataLoader\n",
    "\n",
    "# from sklearn.feature_extraction import DictVectorizer\n",
    "from sklearn.externals import joblib\n",
    "# from sklearn.model_selection import ParameterGrid\n",
    "\n",
    "\n",
    "from functools import reduce\n",
    "from util import *"
   ]
  },
  {
   "cell_type": "code",
   "execution_count": 2,
   "metadata": {},
   "outputs": [],
   "source": [
    "exp_name = 'exp2'\n",
    "checkpoints_path = os.path.join('../checkpoints/', exp_name)\n",
    "selected_model = os.path.join(checkpoints_path, 'action_dim_25batch_size_512_drop_prob_0.0_gamma_0.9_hidden_dim_1024_lr_0.0001_num_epochs_300_num_hidden_5_option_linear_state_dim_46_target_update_10_use_scheduler_False_time_9895668.chk')\n",
    "\n",
    "data_path = '../data'\n",
    "data_dict = joblib.load(os.path.join(data_path, 'data_dict.pkl'))"
   ]
  },
  {
   "cell_type": "code",
   "execution_count": 3,
   "metadata": {},
   "outputs": [],
   "source": [
    "final_df_val = pd.read_csv(os.path.join(data_path, 'val_state_action_reward_df.csv'))"
   ]
  },
  {
   "cell_type": "code",
   "execution_count": 4,
   "metadata": {},
   "outputs": [
    {
     "name": "stdout",
     "output_type": "stream",
     "text": [
      "False\n"
     ]
    }
   ],
   "source": [
    "use_gpu = torch.cuda.is_available()\n",
    "print(use_gpu)"
   ]
  },
  {
   "cell_type": "code",
   "execution_count": 5,
   "metadata": {},
   "outputs": [],
   "source": [
    "eval_dataset = evaluation_Dataset(data_dict['val']['X'], \n",
    "                                  data_dict['val']['action']\n",
    "                                 )"
   ]
  },
  {
   "cell_type": "code",
   "execution_count": 6,
   "metadata": {},
   "outputs": [],
   "source": [
    "eval_loader = DataLoader(eval_dataset, \n",
    "                            512,\n",
    "                            shuffle = False,\n",
    "                            num_workers = 32\n",
    "                         )"
   ]
  },
  {
   "cell_type": "code",
   "execution_count": 15,
   "metadata": {},
   "outputs": [],
   "source": [
    "def evaluate_model(model, the_loader, use_gpu = False):\n",
    "    \n",
    "    model.train(False)\n",
    "    i = 0\n",
    "    for states, actions in the_loader:\n",
    "        i = i + 1\n",
    "#         print(i)\n",
    "        batch_size = states.shape[0]\n",
    "        \n",
    "        if use_gpu:\n",
    "            states, actions = Variable(states.cuda(async = True)), \\\n",
    "                                Variable(actions.cuda(async = True))\n",
    "                \n",
    "        else:\n",
    "            states, actions = Variable(states), \\\n",
    "                                Variable(actions)\n",
    "                \n",
    "        outputs = model(states)\n",
    "        \n",
    "        if use_gpu:\n",
    "            # Get Q(s, a)\n",
    "            current_state_values = outputs[torch.LongTensor(np.arange(batch_size).tolist()).cuda(),\n",
    "                                           actions.data]\n",
    "        else:\n",
    "            # Get Q(s, a)\n",
    "            current_state_values = outputs[torch.LongTensor(np.arange(batch_size)),\n",
    "                                           actions.data]\n",
    "        if i == 1:\n",
    "            predicted_state_action_values_list = current_state_values\n",
    "        else:\n",
    "            predicted_state_action_values_list = torch.cat((predicted_state_action_values_list, \n",
    "                                                            current_state_values))\n",
    "    \n",
    "    return predicted_state_action_values_list"
   ]
  },
  {
   "cell_type": "code",
   "execution_count": 8,
   "metadata": {},
   "outputs": [],
   "source": [
    "# Hardcoded for now\n",
    "config = {\n",
    "          'state_dim' : data_dict['train']['X'].shape[1],\n",
    "          'action_dim' : 25,\n",
    "          'gamma' : 0.9,\n",
    "          'batch_size' : 512,\n",
    "          'lr' : 1e-4,\n",
    "          'num_epochs' : 300,\n",
    "          'hidden_dim' : 1024,\n",
    "          'num_hidden' : 5,\n",
    "          'drop_prob' : 0.0,\n",
    "          'target_update': 10,\n",
    "          'option' : 'linear',\n",
    "          'use_scheduler' : False\n",
    "         }"
   ]
  },
  {
   "cell_type": "code",
   "execution_count": 16,
   "metadata": {
    "scrolled": true
   },
   "outputs": [
    {
     "name": "stdout",
     "output_type": "stream",
     "text": [
      "1\n",
      "2\n",
      "3\n",
      "4\n",
      "5\n",
      "6\n",
      "7\n",
      "8\n",
      "9\n",
      "10\n",
      "11\n",
      "12\n",
      "13\n",
      "14\n",
      "15\n",
      "16\n",
      "17\n",
      "18\n",
      "19\n",
      "20\n",
      "21\n",
      "22\n",
      "23\n",
      "24\n",
      "25\n",
      "26\n",
      "27\n",
      "28\n",
      "29\n",
      "30\n",
      "31\n",
      "32\n",
      "33\n",
      "34\n",
      "35\n",
      "36\n",
      "37\n",
      "38\n",
      "39\n"
     ]
    }
   ],
   "source": [
    "model = dueling_net(D_in = config['state_dim'], \n",
    "                    H = config['hidden_dim'], \n",
    "                    D_out = config['action_dim'],\n",
    "                    drop_prob = config['drop_prob'],\n",
    "                    num_hidden = config['num_hidden'],\n",
    "                    option = config['option']\n",
    "                   )\n",
    "\n",
    "if use_gpu:\n",
    "    model = model.cuda()\n",
    "\n",
    "if use_gpu:\n",
    "    model.load_state_dict(torch.load(selected_model))\n",
    "else:\n",
    "    model.load_state_dict(torch.load(selected_model, map_location=lambda storage, loc: storage))\n",
    "\n",
    "predicted_Q = evaluate_model(model, eval_loader, use_gpu)"
   ]
  },
  {
   "cell_type": "code",
   "execution_count": 23,
   "metadata": {},
   "outputs": [],
   "source": [
    "final_df_val['predicted_Q'] = predicted_Q.data.numpy()"
   ]
  },
  {
   "cell_type": "code",
   "execution_count": 27,
   "metadata": {},
   "outputs": [],
   "source": [
    "final_df_val.to_csv(os.path.join(data_path, 'predicted_Q_physician_df_val.csv'))"
   ]
  }
 ],
 "metadata": {
  "kernelspec": {
   "display_name": "Python [default]",
   "language": "python",
   "name": "python3"
  },
  "language_info": {
   "codemirror_mode": {
    "name": "ipython",
    "version": 3
   },
   "file_extension": ".py",
   "mimetype": "text/x-python",
   "name": "python",
   "nbconvert_exporter": "python",
   "pygments_lexer": "ipython3",
   "version": "3.6.3"
  }
 },
 "nbformat": 4,
 "nbformat_minor": 2
}
